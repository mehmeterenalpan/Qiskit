{
 "cells": [
  {
   "cell_type": "code",
   "id": "initial_id",
   "metadata": {
    "collapsed": true,
    "ExecuteTime": {
     "end_time": "2024-12-18T14:57:21.641184Z",
     "start_time": "2024-12-18T14:57:21.153054Z"
    }
   },
   "source": "from qiskit import QuantumCircuit, QuantumRegister, ClassicalRegister",
   "outputs": [],
   "execution_count": 2
  },
  {
   "metadata": {
    "ExecuteTime": {
     "end_time": "2024-12-18T14:57:22.091626Z",
     "start_time": "2024-12-18T14:57:22.088268Z"
    }
   },
   "cell_type": "code",
   "source": [
    "qr = QuantumRegister(2 ,'qr')\n",
    "cr = ClassicalRegister(2,'c')\n",
    "\n",
    "circuit = QuantumCircuit(qr,cr)"
   ],
   "id": "63a39711b6498665",
   "outputs": [],
   "execution_count": 3
  },
  {
   "metadata": {},
   "cell_type": "markdown",
   "source": "Using Single Qubits:",
   "id": "f69e3ad15cac7534"
  },
  {
   "metadata": {
    "ExecuteTime": {
     "end_time": "2024-12-18T14:57:23.054489Z",
     "start_time": "2024-12-18T14:57:23.049088Z"
    }
   },
   "cell_type": "code",
   "source": [
    "circuit.h(qr[0]) #Hamadard Gate(H-Gate)\n",
    "circuit.x(qr[1]) # Pauli-X Gate(X-Gate) - superposition"
   ],
   "id": "758025abfd21b859",
   "outputs": [
    {
     "data": {
      "text/plain": [
       "<qiskit.circuit.instructionset.InstructionSet at 0x1150c29b0>"
      ]
     },
     "execution_count": 4,
     "metadata": {},
     "output_type": "execute_result"
    }
   ],
   "execution_count": 4
  },
  {
   "metadata": {},
   "cell_type": "markdown",
   "source": "Using Multi Qubits:",
   "id": "17289f638a67648f"
  },
  {
   "metadata": {
    "ExecuteTime": {
     "end_time": "2024-12-18T14:57:26.965733Z",
     "start_time": "2024-12-18T14:57:26.960609Z"
    }
   },
   "cell_type": "code",
   "source": "circuit.cx(qr[0],qr[1]) # CNOT Gate - entanglement",
   "id": "ccb92426bfa59e53",
   "outputs": [
    {
     "data": {
      "text/plain": [
       "<qiskit.circuit.instructionset.InstructionSet at 0x11521b0a0>"
      ]
     },
     "execution_count": 5,
     "metadata": {},
     "output_type": "execute_result"
    }
   ],
   "execution_count": 5
  },
  {
   "metadata": {},
   "cell_type": "markdown",
   "source": "Using Barrier Operations:",
   "id": "5b73d070b488df3"
  },
  {
   "metadata": {
    "ExecuteTime": {
     "end_time": "2024-12-18T14:57:28.385562Z",
     "start_time": "2024-12-18T14:57:28.374552Z"
    }
   },
   "cell_type": "code",
   "source": "circuit.barrier()",
   "id": "868fefa249387295",
   "outputs": [
    {
     "data": {
      "text/plain": [
       "CircuitInstruction(operation=Instruction(name='barrier', num_qubits=2, num_clbits=0, params=[]), qubits=(Qubit(QuantumRegister(2, 'qr'), 0), Qubit(QuantumRegister(2, 'qr'), 1)), clbits=())"
      ]
     },
     "execution_count": 6,
     "metadata": {},
     "output_type": "execute_result"
    }
   ],
   "execution_count": 6
  },
  {
   "metadata": {},
   "cell_type": "markdown",
   "source": "Measuring the Qubits:",
   "id": "dba9ae6f0c51601c"
  },
  {
   "metadata": {
    "ExecuteTime": {
     "end_time": "2024-12-18T14:57:29.714026Z",
     "start_time": "2024-12-18T14:57:29.709Z"
    }
   },
   "cell_type": "code",
   "source": "circuit.measure(qr,cr)",
   "id": "8bd93e5752bca707",
   "outputs": [
    {
     "data": {
      "text/plain": [
       "<qiskit.circuit.instructionset.InstructionSet at 0x1111b9630>"
      ]
     },
     "execution_count": 7,
     "metadata": {},
     "output_type": "execute_result"
    }
   ],
   "execution_count": 7
  },
  {
   "metadata": {},
   "cell_type": "markdown",
   "source": "Return the Circuit Depth:",
   "id": "c8ffa6ad17c31ba8"
  },
  {
   "metadata": {
    "ExecuteTime": {
     "end_time": "2024-12-18T14:57:30.836644Z",
     "start_time": "2024-12-18T14:57:30.834279Z"
    }
   },
   "cell_type": "code",
   "source": "print(f'Circuit Depth: {circuit.depth()}')",
   "id": "42e48f9e9ca7bae5",
   "outputs": [
    {
     "name": "stdout",
     "output_type": "stream",
     "text": [
      "Circuit Depth: 3\n"
     ]
    }
   ],
   "execution_count": 8
  },
  {
   "metadata": {},
   "cell_type": "markdown",
   "source": "Extend quantum circuits:",
   "id": "868f4499370d91d2"
  },
  {
   "metadata": {
    "ExecuteTime": {
     "end_time": "2024-12-18T14:57:31.984048Z",
     "start_time": "2024-12-18T14:57:31.979671Z"
    }
   },
   "cell_type": "code",
   "source": [
    "qr2 = QuantumRegister(1,'q2')\n",
    "circuit.add_register(qr2)\n",
    "circuit.h(qr2[0])"
   ],
   "id": "3892faf54207ae6e",
   "outputs": [
    {
     "data": {
      "text/plain": [
       "<qiskit.circuit.instructionset.InstructionSet at 0x115241240>"
      ]
     },
     "execution_count": 9,
     "metadata": {},
     "output_type": "execute_result"
    }
   ],
   "execution_count": 9
  },
  {
   "metadata": {
    "ExecuteTime": {
     "end_time": "2024-12-18T14:58:14.775019Z",
     "start_time": "2024-12-18T14:58:14.766283Z"
    }
   },
   "cell_type": "code",
   "source": "print(circuit.draw())",
   "id": "314dcfe0f67a395c",
   "outputs": [
    {
     "name": "stdout",
     "output_type": "stream",
     "text": [
      "      ┌───┐      ░ ┌─┐   \n",
      "qr_0: ┤ H ├──■───░─┤M├───\n",
      "      ├───┤┌─┴─┐ ░ └╥┘┌─┐\n",
      "qr_1: ┤ X ├┤ X ├─░──╫─┤M├\n",
      "      ├───┤└───┘ ░  ║ └╥┘\n",
      "  q2: ┤ H ├─────────╫──╫─\n",
      "      └───┘         ║  ║ \n",
      " c: 2/══════════════╩══╩═\n",
      "                    0  1 \n"
     ]
    }
   ],
   "execution_count": 13
  }
 ],
 "metadata": {
  "kernelspec": {
   "display_name": "Python 3",
   "language": "python",
   "name": "python3"
  },
  "language_info": {
   "codemirror_mode": {
    "name": "ipython",
    "version": 2
   },
   "file_extension": ".py",
   "mimetype": "text/x-python",
   "name": "python",
   "nbconvert_exporter": "python",
   "pygments_lexer": "ipython2",
   "version": "2.7.6"
  }
 },
 "nbformat": 4,
 "nbformat_minor": 5
}
